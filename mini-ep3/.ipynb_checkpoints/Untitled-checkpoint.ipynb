{
 "cells": [
  {
   "cell_type": "markdown",
   "id": "2893237e",
   "metadata": {},
   "source": [
    "Aluno: Ciro B Rosa\n",
    "No USP: 2320769\n",
    "E-mail: ciro.rosa@alumni.usp.br\n",
    "\n",
    "Mini-EP3"
   ]
  },
  {
   "cell_type": "markdown",
   "id": "cf6c32eb",
   "metadata": {},
   "source": [
    "Carregar bibliotecas:"
   ]
  },
  {
   "cell_type": "code",
   "execution_count": 1,
   "id": "94418732",
   "metadata": {},
   "outputs": [
    {
     "name": "stderr",
     "output_type": "stream",
     "text": [
      "── \u001b[1mAttaching packages\u001b[22m ─────────────────────────────────────── tidyverse 1.3.1 ──\n",
      "\n",
      "\u001b[32m✔\u001b[39m \u001b[34mggplot2\u001b[39m 3.3.3     \u001b[32m✔\u001b[39m \u001b[34mpurrr  \u001b[39m 0.3.4\n",
      "\u001b[32m✔\u001b[39m \u001b[34mtibble \u001b[39m 3.1.1     \u001b[32m✔\u001b[39m \u001b[34mdplyr  \u001b[39m 1.0.5\n",
      "\u001b[32m✔\u001b[39m \u001b[34mtidyr  \u001b[39m 1.1.3     \u001b[32m✔\u001b[39m \u001b[34mstringr\u001b[39m 1.4.0\n",
      "\u001b[32m✔\u001b[39m \u001b[34mreadr  \u001b[39m 1.4.0     \u001b[32m✔\u001b[39m \u001b[34mforcats\u001b[39m 0.5.1\n",
      "\n",
      "── \u001b[1mConflicts\u001b[22m ────────────────────────────────────────── tidyverse_conflicts() ──\n",
      "\u001b[31m✖\u001b[39m \u001b[34mdplyr\u001b[39m::\u001b[32mfilter()\u001b[39m masks \u001b[34mstats\u001b[39m::filter()\n",
      "\u001b[31m✖\u001b[39m \u001b[34mdplyr\u001b[39m::\u001b[32mlag()\u001b[39m    masks \u001b[34mstats\u001b[39m::lag()\n",
      "\n"
     ]
    }
   ],
   "source": [
    "library(tidyverse)\n",
    "library(readxl)"
   ]
  },
  {
   "cell_type": "markdown",
   "id": "30772cdd",
   "metadata": {},
   "source": [
    "Ler arquivo de dados para variável do R:"
   ]
  },
  {
   "cell_type": "code",
   "execution_count": 2,
   "id": "a62795c6",
   "metadata": {},
   "outputs": [
    {
     "name": "stderr",
     "output_type": "stream",
     "text": [
      "New names:\n",
      "* `` -> ...3\n",
      "* `` -> ...4\n",
      "\n"
     ]
    },
    {
     "data": {
      "text/html": [
       "<table class=\"dataframe\">\n",
       "<caption>A tibble: 10 × 4</caption>\n",
       "<thead>\n",
       "\t<tr><th scope=col>Marca</th><th scope=col>Dell</th><th scope=col>...3</th><th scope=col>...4</th></tr>\n",
       "\t<tr><th scope=col>&lt;chr&gt;</th><th scope=col>&lt;chr&gt;</th><th scope=col>&lt;chr&gt;</th><th scope=col>&lt;chr&gt;</th></tr>\n",
       "</thead>\n",
       "<tbody>\n",
       "\t<tr><td>Modelo     </td><td>7460                             </td><td>NA      </td><td>NA     </td></tr>\n",
       "\t<tr><td>Processador</td><td>Intel Core i7-7500U CPU @ 2.70GHz</td><td>NA      </td><td>NA     </td></tr>\n",
       "\t<tr><td>GPU        </td><td>GeForce 940MX/PCIe/SSE2          </td><td>NA      </td><td>NA     </td></tr>\n",
       "\t<tr><td>NA         </td><td>NA                               </td><td>NA      </td><td>NA     </td></tr>\n",
       "\t<tr><td>processo   </td><td>configuracao                     </td><td>execucao</td><td>tempo_s</td></tr>\n",
       "\t<tr><td>compilar   </td><td>default                          </td><td>1       </td><td>1.995  </td></tr>\n",
       "\t<tr><td>compilar   </td><td>default                          </td><td>2       </td><td>1.81   </td></tr>\n",
       "\t<tr><td>compilar   </td><td>default                          </td><td>3       </td><td>1.869  </td></tr>\n",
       "\t<tr><td>compilar   </td><td>default                          </td><td>4       </td><td>1.857  </td></tr>\n",
       "\t<tr><td>compilar   </td><td>default                          </td><td>5       </td><td>1.804  </td></tr>\n",
       "</tbody>\n",
       "</table>\n"
      ],
      "text/latex": [
       "A tibble: 10 × 4\n",
       "\\begin{tabular}{llll}\n",
       " Marca & Dell & ...3 & ...4\\\\\n",
       " <chr> & <chr> & <chr> & <chr>\\\\\n",
       "\\hline\n",
       "\t Modelo      & 7460                              & NA       & NA     \\\\\n",
       "\t Processador & Intel Core i7-7500U CPU @ 2.70GHz & NA       & NA     \\\\\n",
       "\t GPU         & GeForce 940MX/PCIe/SSE2           & NA       & NA     \\\\\n",
       "\t NA          & NA                                & NA       & NA     \\\\\n",
       "\t processo    & configuracao                      & execucao & tempo\\_s\\\\\n",
       "\t compilar    & default                           & 1        & 1.995  \\\\\n",
       "\t compilar    & default                           & 2        & 1.81   \\\\\n",
       "\t compilar    & default                           & 3        & 1.869  \\\\\n",
       "\t compilar    & default                           & 4        & 1.857  \\\\\n",
       "\t compilar    & default                           & 5        & 1.804  \\\\\n",
       "\\end{tabular}\n"
      ],
      "text/markdown": [
       "\n",
       "A tibble: 10 × 4\n",
       "\n",
       "| Marca &lt;chr&gt; | Dell &lt;chr&gt; | ...3 &lt;chr&gt; | ...4 &lt;chr&gt; |\n",
       "|---|---|---|---|\n",
       "| Modelo      | 7460                              | NA       | NA      |\n",
       "| Processador | Intel Core i7-7500U CPU @ 2.70GHz | NA       | NA      |\n",
       "| GPU         | GeForce 940MX/PCIe/SSE2           | NA       | NA      |\n",
       "| NA          | NA                                | NA       | NA      |\n",
       "| processo    | configuracao                      | execucao | tempo_s |\n",
       "| compilar    | default                           | 1        | 1.995   |\n",
       "| compilar    | default                           | 2        | 1.81    |\n",
       "| compilar    | default                           | 3        | 1.869   |\n",
       "| compilar    | default                           | 4        | 1.857   |\n",
       "| compilar    | default                           | 5        | 1.804   |\n",
       "\n"
      ],
      "text/plain": [
       "   Marca       Dell                              ...3     ...4   \n",
       "1  Modelo      7460                              NA       NA     \n",
       "2  Processador Intel Core i7-7500U CPU @ 2.70GHz NA       NA     \n",
       "3  GPU         GeForce 940MX/PCIe/SSE2           NA       NA     \n",
       "4  NA          NA                                NA       NA     \n",
       "5  processo    configuracao                      execucao tempo_s\n",
       "6  compilar    default                           1        1.995  \n",
       "7  compilar    default                           2        1.81   \n",
       "8  compilar    default                           3        1.869  \n",
       "9  compilar    default                           4        1.857  \n",
       "10 compilar    default                           5        1.804  "
      ]
     },
     "metadata": {},
     "output_type": "display_data"
    },
    {
     "data": {
      "text/html": [
       "<table class=\"dataframe\">\n",
       "<caption>A tibble: 6 × 4</caption>\n",
       "<thead>\n",
       "\t<tr><th scope=col>processo</th><th scope=col>configuracao</th><th scope=col>execucao</th><th scope=col>tempo_s</th></tr>\n",
       "\t<tr><th scope=col>&lt;chr&gt;</th><th scope=col>&lt;chr&gt;</th><th scope=col>&lt;dbl&gt;</th><th scope=col>&lt;dbl&gt;</th></tr>\n",
       "</thead>\n",
       "<tbody>\n",
       "\t<tr><td>compilar</td><td>default</td><td>1</td><td> 1.995</td></tr>\n",
       "\t<tr><td>compilar</td><td>default</td><td>2</td><td> 1.810</td></tr>\n",
       "\t<tr><td>compilar</td><td>default</td><td>3</td><td> 1.869</td></tr>\n",
       "\t<tr><td>compilar</td><td>default</td><td>4</td><td> 1.857</td></tr>\n",
       "\t<tr><td>compilar</td><td>default</td><td>5</td><td> 1.804</td></tr>\n",
       "\t<tr><td>executar</td><td>default</td><td>1</td><td>18.203</td></tr>\n",
       "</tbody>\n",
       "</table>\n"
      ],
      "text/latex": [
       "A tibble: 6 × 4\n",
       "\\begin{tabular}{llll}\n",
       " processo & configuracao & execucao & tempo\\_s\\\\\n",
       " <chr> & <chr> & <dbl> & <dbl>\\\\\n",
       "\\hline\n",
       "\t compilar & default & 1 &  1.995\\\\\n",
       "\t compilar & default & 2 &  1.810\\\\\n",
       "\t compilar & default & 3 &  1.869\\\\\n",
       "\t compilar & default & 4 &  1.857\\\\\n",
       "\t compilar & default & 5 &  1.804\\\\\n",
       "\t executar & default & 1 & 18.203\\\\\n",
       "\\end{tabular}\n"
      ],
      "text/markdown": [
       "\n",
       "A tibble: 6 × 4\n",
       "\n",
       "| processo &lt;chr&gt; | configuracao &lt;chr&gt; | execucao &lt;dbl&gt; | tempo_s &lt;dbl&gt; |\n",
       "|---|---|---|---|\n",
       "| compilar | default | 1 |  1.995 |\n",
       "| compilar | default | 2 |  1.810 |\n",
       "| compilar | default | 3 |  1.869 |\n",
       "| compilar | default | 4 |  1.857 |\n",
       "| compilar | default | 5 |  1.804 |\n",
       "| executar | default | 1 | 18.203 |\n",
       "\n"
      ],
      "text/plain": [
       "  processo configuracao execucao tempo_s\n",
       "1 compilar default      1         1.995 \n",
       "2 compilar default      2         1.810 \n",
       "3 compilar default      3         1.869 \n",
       "4 compilar default      4         1.857 \n",
       "5 compilar default      5         1.804 \n",
       "6 executar default      1        18.203 "
      ]
     },
     "metadata": {},
     "output_type": "display_data"
    }
   ],
   "source": [
    "read_xlsx(\"./rda/execucoes.xlsx\", n_max = 10)\n",
    "dat <- read_xlsx(\"./rda/execucoes.xlsx\", skip = 4)\n",
    "head(dat)"
   ]
  },
  {
   "cell_type": "markdown",
   "id": "a2670eb4",
   "metadata": {},
   "source": [
    "Agrupar dados por processo (complilar, executar) e calcular estatística:"
   ]
  },
  {
   "cell_type": "code",
   "execution_count": 3,
   "id": "c9a8b5d6",
   "metadata": {},
   "outputs": [
    {
     "data": {
      "text/html": [
       "<table class=\"dataframe\">\n",
       "<caption>A tibble: 2 × 3</caption>\n",
       "<thead>\n",
       "\t<tr><th scope=col>processo</th><th scope=col>average</th><th scope=col>standard_deviation</th></tr>\n",
       "\t<tr><th scope=col>&lt;chr&gt;</th><th scope=col>&lt;dbl&gt;</th><th scope=col>&lt;dbl&gt;</th></tr>\n",
       "</thead>\n",
       "<tbody>\n",
       "\t<tr><td>compilar</td><td>6.20</td><td>2.21</td></tr>\n",
       "\t<tr><td>executar</td><td>9.67</td><td>4.37</td></tr>\n",
       "</tbody>\n",
       "</table>\n"
      ],
      "text/latex": [
       "A tibble: 2 × 3\n",
       "\\begin{tabular}{lll}\n",
       " processo & average & standard\\_deviation\\\\\n",
       " <chr> & <dbl> & <dbl>\\\\\n",
       "\\hline\n",
       "\t compilar & 6.20 & 2.21\\\\\n",
       "\t executar & 9.67 & 4.37\\\\\n",
       "\\end{tabular}\n"
      ],
      "text/markdown": [
       "\n",
       "A tibble: 2 × 3\n",
       "\n",
       "| processo &lt;chr&gt; | average &lt;dbl&gt; | standard_deviation &lt;dbl&gt; |\n",
       "|---|---|---|\n",
       "| compilar | 6.20 | 2.21 |\n",
       "| executar | 9.67 | 4.37 |\n",
       "\n"
      ],
      "text/plain": [
       "  processo average standard_deviation\n",
       "1 compilar 6.20    2.21              \n",
       "2 executar 9.67    4.37              "
      ]
     },
     "metadata": {},
     "output_type": "display_data"
    }
   ],
   "source": [
    "options(digits = 3)\n",
    "dat %>%\n",
    "  group_by(processo) %>%\n",
    "  summarize(average = mean(tempo_s), standard_deviation = sd(tempo_s))"
   ]
  },
  {
   "cell_type": "markdown",
   "id": "42bc9060",
   "metadata": {},
   "source": [
    "Agrupar dados por processo (complilar, executar) + configuração do make, e calcular estatística:"
   ]
  },
  {
   "cell_type": "code",
   "execution_count": 4,
   "id": "a8b4bee0",
   "metadata": {},
   "outputs": [
    {
     "name": "stderr",
     "output_type": "stream",
     "text": [
      "`summarise()` has grouped output by 'processo'. You can override using the `.groups` argument.\n",
      "\n"
     ]
    },
    {
     "data": {
      "text/html": [
       "<table class=\"dataframe\">\n",
       "<caption>A grouped_df: 10 × 5</caption>\n",
       "<thead>\n",
       "\t<tr><th scope=col>processo</th><th scope=col>configuracao</th><th scope=col>media</th><th scope=col>desvio_padrao</th><th scope=col>variancia</th></tr>\n",
       "\t<tr><th scope=col>&lt;chr&gt;</th><th scope=col>&lt;chr&gt;</th><th scope=col>&lt;dbl&gt;</th><th scope=col>&lt;dbl&gt;</th><th scope=col>&lt;dbl&gt;</th></tr>\n",
       "</thead>\n",
       "<tbody>\n",
       "\t<tr><td>compilar</td><td>default      </td><td> 1.87</td><td>0.0770</td><td>0.00593</td></tr>\n",
       "\t<tr><td>compilar</td><td>march O3     </td><td> 7.25</td><td>0.0711</td><td>0.00505</td></tr>\n",
       "\t<tr><td>compilar</td><td>march O3 pipe</td><td> 7.33</td><td>0.0584</td><td>0.00341</td></tr>\n",
       "\t<tr><td>compilar</td><td>march O3 sse </td><td> 7.27</td><td>0.0511</td><td>0.00261</td></tr>\n",
       "\t<tr><td>compilar</td><td>O3           </td><td> 7.27</td><td>0.0467</td><td>0.00218</td></tr>\n",
       "\t<tr><td>executar</td><td>default      </td><td>18.23</td><td>0.0587</td><td>0.00345</td></tr>\n",
       "\t<tr><td>executar</td><td>march O3     </td><td> 7.42</td><td>0.1053</td><td>0.01109</td></tr>\n",
       "\t<tr><td>executar</td><td>march O3 pipe</td><td> 7.49</td><td>0.1439</td><td>0.02072</td></tr>\n",
       "\t<tr><td>executar</td><td>march O3 sse </td><td> 7.45</td><td>0.1087</td><td>0.01182</td></tr>\n",
       "\t<tr><td>executar</td><td>O3           </td><td> 7.73</td><td>0.0541</td><td>0.00293</td></tr>\n",
       "</tbody>\n",
       "</table>\n"
      ],
      "text/latex": [
       "A grouped\\_df: 10 × 5\n",
       "\\begin{tabular}{lllll}\n",
       " processo & configuracao & media & desvio\\_padrao & variancia\\\\\n",
       " <chr> & <chr> & <dbl> & <dbl> & <dbl>\\\\\n",
       "\\hline\n",
       "\t compilar & default       &  1.87 & 0.0770 & 0.00593\\\\\n",
       "\t compilar & march O3      &  7.25 & 0.0711 & 0.00505\\\\\n",
       "\t compilar & march O3 pipe &  7.33 & 0.0584 & 0.00341\\\\\n",
       "\t compilar & march O3 sse  &  7.27 & 0.0511 & 0.00261\\\\\n",
       "\t compilar & O3            &  7.27 & 0.0467 & 0.00218\\\\\n",
       "\t executar & default       & 18.23 & 0.0587 & 0.00345\\\\\n",
       "\t executar & march O3      &  7.42 & 0.1053 & 0.01109\\\\\n",
       "\t executar & march O3 pipe &  7.49 & 0.1439 & 0.02072\\\\\n",
       "\t executar & march O3 sse  &  7.45 & 0.1087 & 0.01182\\\\\n",
       "\t executar & O3            &  7.73 & 0.0541 & 0.00293\\\\\n",
       "\\end{tabular}\n"
      ],
      "text/markdown": [
       "\n",
       "A grouped_df: 10 × 5\n",
       "\n",
       "| processo &lt;chr&gt; | configuracao &lt;chr&gt; | media &lt;dbl&gt; | desvio_padrao &lt;dbl&gt; | variancia &lt;dbl&gt; |\n",
       "|---|---|---|---|---|\n",
       "| compilar | default       |  1.87 | 0.0770 | 0.00593 |\n",
       "| compilar | march O3      |  7.25 | 0.0711 | 0.00505 |\n",
       "| compilar | march O3 pipe |  7.33 | 0.0584 | 0.00341 |\n",
       "| compilar | march O3 sse  |  7.27 | 0.0511 | 0.00261 |\n",
       "| compilar | O3            |  7.27 | 0.0467 | 0.00218 |\n",
       "| executar | default       | 18.23 | 0.0587 | 0.00345 |\n",
       "| executar | march O3      |  7.42 | 0.1053 | 0.01109 |\n",
       "| executar | march O3 pipe |  7.49 | 0.1439 | 0.02072 |\n",
       "| executar | march O3 sse  |  7.45 | 0.1087 | 0.01182 |\n",
       "| executar | O3            |  7.73 | 0.0541 | 0.00293 |\n",
       "\n"
      ],
      "text/plain": [
       "   processo configuracao  media desvio_padrao variancia\n",
       "1  compilar default        1.87 0.0770        0.00593  \n",
       "2  compilar march O3       7.25 0.0711        0.00505  \n",
       "3  compilar march O3 pipe  7.33 0.0584        0.00341  \n",
       "4  compilar march O3 sse   7.27 0.0511        0.00261  \n",
       "5  compilar O3             7.27 0.0467        0.00218  \n",
       "6  executar default       18.23 0.0587        0.00345  \n",
       "7  executar march O3       7.42 0.1053        0.01109  \n",
       "8  executar march O3 pipe  7.49 0.1439        0.02072  \n",
       "9  executar march O3 sse   7.45 0.1087        0.01182  \n",
       "10 executar O3             7.73 0.0541        0.00293  "
      ]
     },
     "metadata": {},
     "output_type": "display_data"
    }
   ],
   "source": [
    "dat_out <- dat %>%\n",
    "  group_by(processo, configuracao) %>%\n",
    "  summarize(media = mean(tempo_s), desvio_padrao = sd(tempo_s), variancia = desvio_padrao ^ 2)\n",
    "dat_out"
   ]
  },
  {
   "cell_type": "markdown",
   "id": "07a4907d",
   "metadata": {},
   "source": [
    "Gravar resultado em arquivo \"./rda/estatistica.csv\""
   ]
  },
  {
   "cell_type": "code",
   "execution_count": 5,
   "id": "bf11a8ab",
   "metadata": {},
   "outputs": [],
   "source": [
    "write_csv(dat_out, \"./rda/estatistica.csv\")"
   ]
  }
 ],
 "metadata": {
  "kernelspec": {
   "display_name": "R",
   "language": "R",
   "name": "ir"
  },
  "language_info": {
   "codemirror_mode": "r",
   "file_extension": ".r",
   "mimetype": "text/x-r-source",
   "name": "R",
   "pygments_lexer": "r",
   "version": "4.0.3"
  }
 },
 "nbformat": 4,
 "nbformat_minor": 5
}
